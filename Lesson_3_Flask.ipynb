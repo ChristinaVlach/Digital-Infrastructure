{
 "cells": [
  {
   "cell_type": "markdown",
   "id": "f8db78f5-00eb-4368-b124-036c43b74914",
   "metadata": {},
   "source": [
    "# BASIC FLASK, REST API AND MORE\n",
    "*Author: Marco Prenassi*   \n",
    "*License: Creative Commons Attribution 4.0 International*    "
   ]
  },
  {
   "cell_type": "code",
   "execution_count": 1,
   "id": "f6c67c53-2561-4f6a-b812-7aa928118179",
   "metadata": {},
   "outputs": [
    {
     "name": "stdout",
     "output_type": "stream",
     "text": [
      "Requirement already satisfied: flask in /opt/conda/lib/python3.11/site-packages (3.0.3)\n",
      "Requirement already satisfied: Werkzeug>=3.0.0 in /opt/conda/lib/python3.11/site-packages (from flask) (3.0.4)\n",
      "Requirement already satisfied: Jinja2>=3.1.2 in /opt/conda/lib/python3.11/site-packages (from flask) (3.1.2)\n",
      "Requirement already satisfied: itsdangerous>=2.1.2 in /opt/conda/lib/python3.11/site-packages (from flask) (2.2.0)\n",
      "Requirement already satisfied: click>=8.1.3 in /opt/conda/lib/python3.11/site-packages (from flask) (8.1.7)\n",
      "Requirement already satisfied: blinker>=1.6.2 in /opt/conda/lib/python3.11/site-packages (from flask) (1.6.3)\n",
      "Requirement already satisfied: MarkupSafe>=2.0 in /opt/conda/lib/python3.11/site-packages (from Jinja2>=3.1.2->flask) (2.1.3)\n"
     ]
    }
   ],
   "source": [
    "!pip install flask"
   ]
  },
  {
   "cell_type": "code",
   "execution_count": 3,
   "id": "3f8167d9-9659-4654-8010-1afb50dfc677",
   "metadata": {},
   "outputs": [
    {
     "name": "stderr",
     "output_type": "stream",
     "text": [
      "WARNING: This is a development server. Do not use it in a production deployment. Use a production WSGI server instead.\n",
      " * Running on all addresses (0.0.0.0)\n",
      " * Running on http://127.0.0.1:5000\n",
      " * Running on http://10.88.0.14:5000\n",
      "Press CTRL+C to quit\n",
      "192.168.127.1 - - [15/Oct/2024 07:01:28] \"GET / HTTP/1.1\" 200 -\n",
      "192.168.127.1 - - [15/Oct/2024 07:01:28] \"GET /favicon.ico HTTP/1.1\" 404 -\n"
     ]
    }
   ],
   "source": [
    "from werkzeug.wrappers import Request, Response\n",
    "from flask import Flask\n",
    "\n",
    "app = Flask(__name__)\n",
    "\n",
    "# Decorator that maps the apps routes, \"/\" is our host (like: http://localhost.5000/)\n",
    "@app.route(\"/\")\n",
    "def hello():\n",
    "    return \"Hello World!\"\n",
    "\n",
    "# Entry point. Remember that you have to interrupt this code\n",
    "if __name__ == '__main__':\n",
    "    from werkzeug.serving import run_simple\n",
    "    run_simple(\"0.0.0.0\", 5000, app)"
   ]
  },
  {
   "cell_type": "code",
   "execution_count": 1,
   "id": "fdfacc65-4ab0-4363-8218-11bd647d16da",
   "metadata": {},
   "outputs": [],
   "source": [
    "from flask import Flask\n",
    "from flask import request\n",
    "\n",
    "app = Flask(__name__)\n",
    "app.debug = True\n",
    "\n",
    "# Let's point to a dynamic node with: <variable>\n",
    "@app.route('/users/<user_id>', methods = ['GET', 'POST', 'DELETE'])\n",
    "def user(user_id):\n",
    "    if request.method == 'GET':\n",
    "        # Let's instantiate a FORM\n",
    "        raw_html = f\"Hi, User {user_id}!<br>\"\n",
    "        # REMEMBER POST must be written post, with lower case letters, also, \n",
    "        # let's point our post towards ourselves\n",
    "        raw_html += f'<form action=\"/users/{user_id}\" method=\"post\">'\n",
    "        raw_html += '<input type=\"text\" id=\"laboratory\" name=\"laboratory\"><br>'\n",
    "        raw_html += '<input type=\"submit\" value=\"Submit\">'\n",
    "        raw_html += '</form>'\n",
    "        return raw_html\n",
    "    if request.method == 'POST':\n",
    "        # Let's read the form, request (object) have all the data of the packet\n",
    "        data = request.form.get('laboratory') # a multidict containing POST data\n",
    "        return f\"Hi, poster {user_id} - you posted {data}\"\n",
    "    if request.method == 'DELETE':\n",
    "        return \"This is dangerous\"\n",
    "    else:\n",
    "        return \"Error 405 Method Not Allowed\""
   ]
  },
  {
   "cell_type": "code",
   "execution_count": 2,
   "id": "4d9a4406-aa73-4abf-a451-ea6102a24e05",
   "metadata": {},
   "outputs": [
    {
     "name": "stderr",
     "output_type": "stream",
     "text": [
      "WARNING: This is a development server. Do not use it in a production deployment. Use a production WSGI server instead.\n",
      " * Running on all addresses (0.0.0.0)\n",
      " * Running on http://127.0.0.1:5000\n",
      " * Running on http://10.88.0.14:5000\n",
      "Press CTRL+C to quit\n",
      "192.168.127.1 - - [15/Oct/2024 07:06:14] \"GET /users/marco HTTP/1.1\" 200 -\n",
      "192.168.127.1 - - [15/Oct/2024 07:06:17] \"GET / HTTP/1.1\" 404 -\n"
     ]
    }
   ],
   "source": [
    "# Beware that this is really unstable, copy your app into a file and from terminal\n",
    "# flask --app name_of_the_file run --host=\"0.0.0.0\" [without the .py]\n",
    "if __name__ == '__main__':\n",
    "    from werkzeug.serving import run_simple\n",
    "    run_simple(\"0.0.0.0\", 5000, app, use_debugger=True)"
   ]
  },
  {
   "cell_type": "code",
   "execution_count": 108,
   "id": "d55d4ea4-30ca-4f52-b292-a832c0f64866",
   "metadata": {},
   "outputs": [],
   "source": [
    "# Let's put all together (FLASK + SQLALCHEMY ORM!)\n",
    "from flask import Flask\n",
    "from flask import request\n",
    "from werkzeug.debug import DebuggedApplication\n",
    "\n",
    "app = Flask(__name__)\n",
    "app.debug = True\n",
    "\n",
    "import sqlalchemy as sql\n",
    "\n",
    "from sqlalchemy import String\n",
    "from sqlalchemy.orm import DeclarativeBase\n",
    "from sqlalchemy.orm import Mapped\n",
    "from sqlalchemy.orm import mapped_column\n",
    "# We inherit DeclarativeBase to create a Base, why? Because we need to create a specific registry linked to the database.\n",
    "# class normally do not hold attributes, but in this specific case they do, as it is used as a \"legend\" to navigate the SQL schema\n",
    "class Base(DeclarativeBase):\n",
    "    pass\n",
    "\n",
    "# Let's see if there's something (you only see an \"object\" like: <sqlalchemy.orm.decl_api.registry object at ....>\n",
    "print(Base.registry)\n",
    "\n",
    "class Sample(Base):\n",
    "    __tablename__ = \"sample\"\n",
    "    name: Mapped[str] = mapped_column(String[50], primary_key=True)\n",
    "    molecular_weight: Mapped[float]\n",
    "\n",
    "# Create a new sqlite database\n",
    "from sqlalchemy import create_engine\n",
    "engine = create_engine(\"sqlite:///databases/flask_database.db\", echo=False)\n",
    "# Create all the table, using the definition in Base (that's why we used it)\n",
    "Base.metadata.create_all(engine)\n",
    "\n",
    "# Let's populate our table with data!\n",
    "from sqlalchemy.orm import Session\n",
    "from sqlalchemy.exc import IntegrityError\n",
    "\n",
    "# Create a session\n",
    "def database_insert(name, molecular_weight):\n",
    "    with Session(engine) as session:\n",
    "        try:\n",
    "            # Let's insert the first row of data\n",
    "            sample = Sample(\n",
    "                name=name,\n",
    "                molecular_weight=molecular_weight,\n",
    "            )\n",
    "            session.add(sample)\n",
    "            session.commit()\n",
    "        except IntegrityError as e:\n",
    "            print(f\"Error, created new data must have a unique primary key! \\n{e}\")\n",
    "\n",
    "@app.route('/users/<user_id>', methods = ['GET', 'POST', 'DELETE'])\n",
    "def user(user_id):\n",
    "    if request.method == 'GET':\n",
    "        raw_html = f\"Hi, User {user_id}!<br>\"\n",
    "        # REMEMBER POST must be written post, with lower case letters\n",
    "        raw_html += f'<form action=\"/users/{user_id}\" method=\"post\">'\n",
    "        raw_html += '<label for=\"fname\">Name:</label><br>'\n",
    "        raw_html += '<input type=\"text\" id=\"name\" name=\"name\"><br>'\n",
    "        raw_html += '<label for=\"fname\">Molecular weight:</label><br>'\n",
    "        raw_html += '<input type=\"text\" id=\"molecular_weight\" name=\"molecular_weight\"><br>'\n",
    "        raw_html += '<input type=\"submit\" value=\"Submit\">'\n",
    "        raw_html += '</form>'\n",
    "        return raw_html\n",
    "    if request.method == 'POST':\n",
    "        name = request.form.get('name') # a multidict containing POST data\n",
    "        molecular_weight = request.form.get('molecular_weight')\n",
    "        database_insert(name, molecular_weight)\n",
    "        return f\"Hi, poster {user_id} - you posted {name} with molecular weight of {molecular_weight}\"\n",
    "    if request.method == 'DELETE':\n",
    "        return \"This is dangerous\"\n",
    "    else:\n",
    "        return \"Error 405 Method Not Allowed\""
   ]
  },
  {
   "cell_type": "code",
   "execution_count": 109,
   "id": "13afa560-9b38-43e9-bbf5-6a969bc96977",
   "metadata": {},
   "outputs": [
    {
     "name": "stderr",
     "output_type": "stream",
     "text": [
      "WARNING: This is a development server. Do not use it in a production deployment. Use a production WSGI server instead.\n",
      " * Running on all addresses (0.0.0.0)\n",
      " * Running on http://127.0.0.1:5000\n",
      " * Running on http://10.88.0.13:5000\n",
      "Press CTRL+C to quit\n",
      "192.168.127.1 - - [13/Oct/2024 17:40:31] \"GET /users/gianni HTTP/1.1\" 200 -\n",
      "192.168.127.1 - - [13/Oct/2024 17:40:35] \"POST /users/gianni HTTP/1.1\" 200 -\n"
     ]
    }
   ],
   "source": [
    "# Beware that this is really unstable, copy your app into a file and from terminal\n",
    "# flask --app name_of_the_file run --host=\"0.0.0.0\" [without the .py]\n",
    "if __name__ == '__main__':\n",
    "    from werkzeug.serving import run_simple\n",
    "    run_simple(\"0.0.0.0\", 5000, app, use_debugger=True)"
   ]
  },
  {
   "cell_type": "code",
   "execution_count": 163,
   "id": "610d92b8-6f81-4a51-b89c-a9f8b04511cd",
   "metadata": {},
   "outputs": [
    {
     "name": "stdout",
     "output_type": "stream",
     "text": [
      "{'details': 'author_and_software_defined_assembly', 'id': '1', 'method_details': 'PISA', 'oligomeric_count': 3, 'oligomeric_details': 'trimeric', 'rcsb_candidate_assembly': 'Y', 'rcsb_details': 'author_and_software_defined_assembly'} aa\n"
     ]
    }
   ],
   "source": [
    "# Let's use our app as a bridge to other web services, \n",
    "# Let's check if they are available\n",
    "import requests as rq\n",
    "import json\n",
    "# rq.get('https://data.rcsb.org/rest/v1/core/assembly/{entry_id}/{assembly_id}')\n",
    "result = rq.get('https://data.rcsb.org/rest/v1/core/assembly/1RH7/1').json()\n"
   ]
  },
  {
   "cell_type": "code",
   "execution_count": 167,
   "id": "86af4d0f-6eda-4e45-922b-ffd9704fcebb",
   "metadata": {},
   "outputs": [],
   "source": [
    "# Ok, let's bridge our two services\n",
    "app = Flask(__name__)\n",
    "app.debug = True\n",
    "\n",
    "@app.route('/get_entry/', methods = ['GET', 'POST', 'DELETE'])\n",
    "def protein_retrieval():\n",
    "    if request.method == 'GET':\n",
    "        raw_html = f\"Hi, User!<br>\"\n",
    "        # REMEMBER POST must be written post, with lower case letters\n",
    "        raw_html += f'<form action=\"/get_entry/\" method=\"post\">'\n",
    "        raw_html += '<label for=\"fname\">entry id:</label><br>'\n",
    "        raw_html += '<input type=\"text\" id=\"entry_id\" name=\"entry_id\"><br>'\n",
    "        raw_html += '<label for=\"fname\">assembly id:</label><br>'\n",
    "        raw_html += '<input type=\"text\" id=\"assembly_id\" name=\"assembly_id\"><br>'\n",
    "        raw_html += '<input type=\"submit\" value=\"Submit\">'\n",
    "        raw_html += '</form>'\n",
    "        return raw_html\n",
    "    if request.method == 'POST':\n",
    "        # Inside here I put my data and forward a request to the API\n",
    "        entry_id = request.form.get('entry_id') # a multidict containing POST data\n",
    "        assembly_id = request.form.get('assembly_id')\n",
    "        result = rq.get(f'https://data.rcsb.org/rest/v1/core/assembly/{entry_id}/{assembly_id}').json()        \n",
    "        return f\"{result['pdbx_struct_assembly']}\"\n",
    "    if request.method == 'DELETE':\n",
    "        return \"This is dangerous\"\n",
    "    else:\n",
    "        return \"Error 405 Method Not Allowed\""
   ]
  },
  {
   "cell_type": "code",
   "execution_count": null,
   "id": "b48a9702-c1b8-4040-b065-ba82cd001a2d",
   "metadata": {},
   "outputs": [
    {
     "name": "stderr",
     "output_type": "stream",
     "text": [
      "WARNING: This is a development server. Do not use it in a production deployment. Use a production WSGI server instead.\n",
      " * Running on all addresses (0.0.0.0)\n",
      " * Running on http://127.0.0.1:5000\n",
      " * Running on http://10.88.0.13:5000\n",
      "Press CTRL+C to quit\n",
      "192.168.127.1 - - [13/Oct/2024 18:22:46] \"GET /get_entry/ HTTP/1.1\" 200 -\n",
      "192.168.127.1 - - [13/Oct/2024 18:22:46] \"GET /favicon.ico HTTP/1.1\" 404 -\n",
      "192.168.127.1 - - [13/Oct/2024 18:22:46] \"GET /get_entry/ HTTP/1.1\" 200 -\n",
      "192.168.127.1 - - [13/Oct/2024 18:22:50] \"POST /get_entry/ HTTP/1.1\" 200 -\n"
     ]
    }
   ],
   "source": [
    "# Beware that this is really unstable, copy your app into a file and from terminal\n",
    "# flask --app name_of_the_file run --host=\"0.0.0.0\" [without the .py]\n",
    "if __name__ == '__main__':\n",
    "    from werkzeug.serving import run_simple\n",
    "    run_simple(\"0.0.0.0\", 5000, app, use_debugger=True)\n"
   ]
  },
  {
   "cell_type": "code",
   "execution_count": null,
   "id": "0a029271-948b-468d-ae26-ee0d8562eb29",
   "metadata": {},
   "outputs": [],
   "source": []
  },
  {
   "cell_type": "code",
   "execution_count": null,
   "id": "8ed80c9d-e1e5-4121-9a0f-b206858c1a82",
   "metadata": {},
   "outputs": [],
   "source": []
  }
 ],
 "metadata": {
  "kernelspec": {
   "display_name": "Python 3 (ipykernel)",
   "language": "python",
   "name": "python3"
  },
  "language_info": {
   "codemirror_mode": {
    "name": "ipython",
    "version": 3
   },
   "file_extension": ".py",
   "mimetype": "text/x-python",
   "name": "python",
   "nbconvert_exporter": "python",
   "pygments_lexer": "ipython3",
   "version": "3.11.6"
  }
 },
 "nbformat": 4,
 "nbformat_minor": 5
}
