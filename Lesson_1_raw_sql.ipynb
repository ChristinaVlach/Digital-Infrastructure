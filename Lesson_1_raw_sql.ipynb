{
 "cells": [
  {
   "cell_type": "markdown",
   "id": "059f3070-9e28-4b92-85d7-a61fb633e39b",
   "metadata": {},
   "source": [
    "# Raw SQL queries with sqlalchemy and sqlite databases\n",
    "*Author: Marco Prenassi*   \n",
    "*License: Creative Commons Attribution 4.0 International*    \n",
    "<span style=\"color:red\">Beware: Raw sql injection is NOT a secure practice, this is only for learning purposes!!! </span>"
   ]
  },
  {
   "cell_type": "markdown",
   "id": "b85eb7ee-c471-4aa5-9b3f-93a90b39bf45",
   "metadata": {},
   "source": [
    "### STEP 1: Module setup\n",
    "*In this first part consider all the python code as \"boilerplate code\", or... a magic spell*   \n",
    "*The important part is focusing on install and test the right modules, we will explain later the various components*"
   ]
  },
  {
   "cell_type": "code",
   "execution_count": 62,
   "id": "cd5ad3e6-9e48-45c3-b493-4deb237d99e7",
   "metadata": {},
   "outputs": [
    {
     "name": "stdout",
     "output_type": "stream",
     "text": [
      "Requirement already satisfied: sqlalchemy in /opt/conda/lib/python3.11/site-packages (2.0.22)\n",
      "Requirement already satisfied: typing-extensions>=4.2.0 in /opt/conda/lib/python3.11/site-packages (from sqlalchemy) (4.8.0)\n",
      "Requirement already satisfied: greenlet!=0.4.17 in /opt/conda/lib/python3.11/site-packages (from sqlalchemy) (3.0.0)\n"
     ]
    }
   ],
   "source": [
    "# Let's download sqlalchemy and import it as sql\n",
    "!pip install sqlalchemy"
   ]
  },
  {
   "cell_type": "code",
   "execution_count": 63,
   "id": "d7bf9522-81c0-417f-9724-b76ac28915b5",
   "metadata": {},
   "outputs": [],
   "source": [
    "import sqlalchemy as sql"
   ]
  },
  {
   "cell_type": "markdown",
   "id": "14bc7188-ed7e-4514-84d4-ec81b2dc4d61",
   "metadata": {},
   "source": [
    "#### Engine definition\n",
    "*Create an engine with a sqlite protocol into the folder ./databases with the name \"simple_db.db\", set echo=True to see every interaction with the database*   \n",
    "*If not present, create the folder ./databases*"
   ]
  },
  {
   "cell_type": "code",
   "execution_count": 64,
   "id": "ee925c37-39d2-4112-8a4f-9e4a8dadb1c0",
   "metadata": {},
   "outputs": [],
   "source": [
    "import os\n",
    "engine = sql.create_engine('sqlite:///databases/simple_db.db', echo=True)\n",
    "if not os.path.isdir('databases'):\n",
    "    print(\"directory /databases not found. Making one...\")\n",
    "    !mkdir databases"
   ]
  },
  {
   "cell_type": "markdown",
   "id": "35c0d0b4-af63-4c47-a5af-df53afa177ed",
   "metadata": {},
   "source": [
    "*Create the database and connect through connect() and after that close the connection*   \n"
   ]
  },
  {
   "cell_type": "code",
   "execution_count": 65,
   "id": "1e20de1b-9c48-435e-9cdc-bbb52d6d3bb2",
   "metadata": {},
   "outputs": [],
   "source": [
    "try:\n",
    "    engine.connect().close()\n",
    "    # completely dispose of the connection pool\n",
    "    # engine.dispose()\n",
    "except sql.exc.OperationalError as e:\n",
    "    print(e)"
   ]
  },
  {
   "cell_type": "markdown",
   "id": "3ead0694-49b7-4b55-8f58-cc92a8056562",
   "metadata": {},
   "source": [
    "### STEP 2: Create relations (tables)\n",
    "*Let's start to test raw SQL*"
   ]
  },
  {
   "cell_type": "code",
   "execution_count": 66,
   "id": "b2917331-1f9d-4798-abd4-020c50f0d5c4",
   "metadata": {},
   "outputs": [
    {
     "name": "stdout",
     "output_type": "stream",
     "text": [
      "2024-10-09 07:20:46,614 INFO sqlalchemy.engine.Engine BEGIN (implicit)\n",
      "2024-10-09 07:20:46,617 INFO sqlalchemy.engine.Engine DROP TABLE IF EXISTS users\n",
      "2024-10-09 07:20:46,618 INFO sqlalchemy.engine.Engine [generated in 0.00414s] ()\n",
      "2024-10-09 07:20:46,623 INFO sqlalchemy.engine.Engine COMMIT\n"
     ]
    }
   ],
   "source": [
    "# a little bit of cleanup before starting to create tables, for now, this is still a magic spell!\n",
    "with engine.connect() as connection:\n",
    "    # If we have been naughty and already created a table named users, let's delete it (but only... IF EXISTS)\n",
    "    raw_sql = \"DROP TABLE IF EXISTS users\"\n",
    "    connection.execute(sql.text(raw_sql))\n",
    "    connection.commit()\n",
    "    # if you see: sqlalchemy.engine.Engine COMMIT at the end the database has been changed"
   ]
  },
  {
   "cell_type": "code",
   "execution_count": 67,
   "id": "9cb53e7f-50bf-4370-bcca-6cf40840476e",
   "metadata": {},
   "outputs": [
    {
     "name": "stdout",
     "output_type": "stream",
     "text": [
      "2024-10-09 07:20:49,149 INFO sqlalchemy.engine.Engine BEGIN (implicit)\n",
      "2024-10-09 07:20:49,152 INFO sqlalchemy.engine.Engine CREATE TABLE IF NOT EXISTS samples (sample_id INTEGER PRIMARY KEY, weight REAL NOT NULL, researcher_id VARCHAR(64))\n",
      "2024-10-09 07:20:49,153 INFO sqlalchemy.engine.Engine [generated in 0.00475s] ()\n",
      "2024-10-09 07:20:49,183 INFO sqlalchemy.engine.Engine COMMIT\n"
     ]
    }
   ],
   "source": [
    "# Ok, this is the start of our database, first step, we create the schema of our first table\n",
    "# Let's define a simple, generic (this is really important for the next lessons), sample table\n",
    "with engine.connect() as connection:\n",
    "    # sample is the name of the table, usually all lowercaps (for some dbms, e.g., postgresql, this is mandandatory\n",
    "    raw_sql = \"CREATE TABLE IF NOT EXISTS samples \"\n",
    "    # We declare the columns inside a ()\n",
    "    # sample_id is the name, INTEGER is the type, and then are the constrains, like here we set\n",
    "    # we also chose sample_id as a PRIMARY KEY, so the system will guarantee the uniqueness of the column (among other things) \n",
    "    raw_sql += \"(sample_id INTEGER PRIMARY KEY, \"\n",
    "    # the we start to put some data, I have chosen for now: weight, and must be not null\n",
    "    raw_sql += \"weight REAL NOT NULL, \"\n",
    "    # and the researcher_id of the researcher, to identify who put the sample inside the system\n",
    "    raw_sql += \"researcher_id VARCHAR(64))\"\n",
    "    # Then we execute the query, and lastly we commit the changes\n",
    "    connection.execute(sql.text(raw_sql))\n",
    "    connection.commit()"
   ]
  },
  {
   "cell_type": "code",
   "execution_count": 68,
   "id": "b51aa616-f056-4638-81bd-8c4ddce713fc",
   "metadata": {},
   "outputs": [
    {
     "name": "stdout",
     "output_type": "stream",
     "text": [
      "2024-10-09 07:20:53,103 INFO sqlalchemy.engine.Engine BEGIN (implicit)\n",
      "2024-10-09 07:20:53,108 INFO sqlalchemy.engine.Engine INSERT INTO samples (sample_id, weight, researcher_id) VALUES (0, 12.2 ,'joesmith')\n",
      "2024-10-09 07:20:53,110 INFO sqlalchemy.engine.Engine [generated in 0.00739s] ()\n",
      "2024-10-09 07:20:53,116 INFO sqlalchemy.engine.Engine COMMIT\n"
     ]
    }
   ],
   "source": [
    " # Now let's take our \"SCHEMA\" and fill it with data (\"INSTANCE\")\n",
    "try:\n",
    "    with engine.connect() as connection:\n",
    "        raw_sql = \"INSERT INTO samples (sample_id, weight, researcher_id) VALUES (0, 12.2 ,'joesmith')\"\n",
    "        connection.execute(sql.text(raw_sql))\n",
    "        connection.commit()\n",
    "except sql.exc.IntegrityError as e:\n",
    "    print(\"\\n--> ERROR: If you see me probably you are violating the primary key constraint, i.e., you are trying to insert a new line with the same pk \\n\")\n",
    "    print(e)\n",
    "    "
   ]
  },
  {
   "cell_type": "code",
   "execution_count": 69,
   "id": "475df37b-d656-4d0b-a2c6-9edcbf376cfb",
   "metadata": {},
   "outputs": [
    {
     "name": "stdout",
     "output_type": "stream",
     "text": [
      "2024-10-09 07:20:55,612 INFO sqlalchemy.engine.Engine BEGIN (implicit)\n",
      "2024-10-09 07:20:55,615 INFO sqlalchemy.engine.Engine UPDATE samples SET researcher_id = 'janesmith' WHERE sample_id=0\n",
      "2024-10-09 07:20:55,618 INFO sqlalchemy.engine.Engine [generated in 0.00719s] ()\n",
      "2024-10-09 07:20:55,626 INFO sqlalchemy.engine.Engine COMMIT\n"
     ]
    }
   ],
   "source": [
    "# Let's update our data\n",
    "with engine.connect() as connection:\n",
    "    # We change our researcher_id but...\n",
    "    raw_sql = \"UPDATE samples SET researcher_id = 'janesmith' \"\n",
    "    # We need to tell to our DBMS the sample that we want to change!\n",
    "    raw_sql += \"WHERE sample_id=0\"\n",
    "    result = connection.execute(sql.text(raw_sql))\n",
    "    connection.commit()"
   ]
  },
  {
   "cell_type": "code",
   "execution_count": 70,
   "id": "cf3b5062-b2c3-4429-bbae-c2ec5da0d5e0",
   "metadata": {},
   "outputs": [
    {
     "name": "stdout",
     "output_type": "stream",
     "text": [
      "2024-10-09 07:20:57,706 INFO sqlalchemy.engine.Engine BEGIN (implicit)\n",
      "2024-10-09 07:20:57,724 INFO sqlalchemy.engine.Engine INSERT INTO samples ('sample_id','weight','researcher_id') VALUES (1,9.2,'johnatansmith'),(2,11.3,'johnatansmith'), (3,2.2,'johnatansmith'), (4,14.5,'janesmith')\n",
      "2024-10-09 07:20:57,728 INFO sqlalchemy.engine.Engine [generated in 0.02267s] ()\n",
      "2024-10-09 07:20:57,736 INFO sqlalchemy.engine.Engine COMMIT\n"
     ]
    }
   ],
   "source": [
    "# Let's bulk insert some other data\n",
    "with engine.connect() as connection:\n",
    "    raw_sql = \"INSERT INTO samples ('sample_id','weight','researcher_id') \"\n",
    "    raw_sql += \"VALUES (1,9.2,'johnatansmith'),(2,11.3,'johnatansmith'), (3,2.2,'johnatansmith'), (4,14.5,'janesmith')\"\n",
    "    result = connection.execute(sql.text(raw_sql))\n",
    "    connection.commit()"
   ]
  },
  {
   "cell_type": "markdown",
   "id": "44130ec8-4780-4d09-a87d-cd8a0b9f7496",
   "metadata": {},
   "source": [
    "### STEP 3: QUERYING OPERATIONS\n",
    "*Now that we have created our first instance of a table, let's check on it and retrieve our data*"
   ]
  },
  {
   "cell_type": "code",
   "execution_count": 71,
   "id": "01434469-7921-4e14-8574-05ec8094fef2",
   "metadata": {},
   "outputs": [
    {
     "name": "stdout",
     "output_type": "stream",
     "text": [
      "2024-10-09 07:20:59,958 INFO sqlalchemy.engine.Engine BEGIN (implicit)\n",
      "2024-10-09 07:20:59,967 INFO sqlalchemy.engine.Engine SELECT * FROM samples\n",
      "2024-10-09 07:20:59,970 INFO sqlalchemy.engine.Engine [generated in 0.01077s] ()\n",
      "sample_id: 0 - weight: 12.2 - researcher_id: janesmith\n",
      "sample_id: 1 - weight: 9.2 - researcher_id: johnatansmith\n",
      "sample_id: 2 - weight: 11.3 - researcher_id: johnatansmith\n",
      "sample_id: 3 - weight: 2.2 - researcher_id: johnatansmith\n",
      "sample_id: 4 - weight: 14.5 - researcher_id: janesmith\n",
      "2024-10-09 07:20:59,989 INFO sqlalchemy.engine.Engine ROLLBACK\n"
     ]
    }
   ],
   "source": [
    "with engine.connect() as connection:\n",
    "    # a simple selection of data, * means all the columns of the table\n",
    "    raw_sql = \"SELECT * FROM samples\"\n",
    "    result = connection.execute(sql.text(raw_sql))\n",
    "    for row in result:\n",
    "        print(f\"sample_id: {row.sample_id} - weight: {row.weight} - researcher_id: {row.researcher_id}\")"
   ]
  },
  {
   "cell_type": "code",
   "execution_count": 72,
   "id": "e7561bde-f29e-4b98-99fc-957d116f7057",
   "metadata": {},
   "outputs": [
    {
     "name": "stdout",
     "output_type": "stream",
     "text": [
      "2024-10-09 07:21:02,017 INFO sqlalchemy.engine.Engine BEGIN (implicit)\n",
      "2024-10-09 07:21:02,018 INFO sqlalchemy.engine.Engine SELECT samples.sample_id, samples.weight FROM samples\n",
      "2024-10-09 07:21:02,019 INFO sqlalchemy.engine.Engine [generated in 0.00231s] ()\n",
      "sample_id: 0 - weight: 12.2\n",
      "sample_id: 1 - weight: 9.2\n",
      "sample_id: 2 - weight: 11.3\n",
      "sample_id: 3 - weight: 2.2\n",
      "sample_id: 4 - weight: 14.5\n",
      "2024-10-09 07:21:02,021 INFO sqlalchemy.engine.Engine ROLLBACK\n"
     ]
    }
   ],
   "source": [
    "# Select columns\n",
    "with engine.connect() as connection:\n",
    "    # a simple selection of data, * means all the columns of the table\n",
    "    raw_sql = \"SELECT samples.sample_id, samples.weight FROM samples\"\n",
    "    result = connection.execute(sql.text(raw_sql))\n",
    "    for row in result:\n",
    "        print(f\"sample_id: {row.sample_id} - weight: {row.weight}\")"
   ]
  },
  {
   "cell_type": "code",
   "execution_count": 73,
   "id": "2eca56a1-daa2-4f0e-b884-193206041d69",
   "metadata": {},
   "outputs": [
    {
     "name": "stdout",
     "output_type": "stream",
     "text": [
      "2024-10-09 07:21:03,972 INFO sqlalchemy.engine.Engine BEGIN (implicit)\n",
      "2024-10-09 07:21:03,974 INFO sqlalchemy.engine.Engine SELECT samples.sample_id, samples.weight FROM samples WHERE samples.weight > 10\n",
      "2024-10-09 07:21:03,975 INFO sqlalchemy.engine.Engine [generated in 0.00319s] ()\n",
      "sample_id: 0 - weight: 12.2\n",
      "sample_id: 2 - weight: 11.3\n",
      "sample_id: 4 - weight: 14.5\n",
      "2024-10-09 07:21:03,980 INFO sqlalchemy.engine.Engine ROLLBACK\n"
     ]
    }
   ],
   "source": [
    "# Give some sorting conditions with WHERE\n",
    "with engine.connect() as connection:\n",
    "    # a simple selection of data, * means all the columns of the table\n",
    "    raw_sql = \"SELECT samples.sample_id, samples.weight FROM samples \"\n",
    "    raw_sql += \"WHERE samples.weight > 10\"\n",
    "    result = connection.execute(sql.text(raw_sql))\n",
    "    for row in result:\n",
    "        print(f\"sample_id: {row.sample_id} - weight: {row.weight}\")"
   ]
  },
  {
   "cell_type": "code",
   "execution_count": 74,
   "id": "43b2bf38-e804-4037-b81d-0942a985b133",
   "metadata": {},
   "outputs": [
    {
     "name": "stdout",
     "output_type": "stream",
     "text": [
      "2024-10-09 07:21:06,911 INFO sqlalchemy.engine.Engine BEGIN (implicit)\n",
      "2024-10-09 07:21:06,914 INFO sqlalchemy.engine.Engine SELECT samples.sample_id, samples.weight FROM samples ORDER BY samples.weight ASC\n",
      "2024-10-09 07:21:06,915 INFO sqlalchemy.engine.Engine [generated in 0.00433s] ()\n",
      "sample_id: 3 - weight: 2.2\n",
      "sample_id: 1 - weight: 9.2\n",
      "sample_id: 2 - weight: 11.3\n",
      "sample_id: 0 - weight: 12.2\n",
      "sample_id: 4 - weight: 14.5\n",
      "2024-10-09 07:21:06,918 INFO sqlalchemy.engine.Engine ROLLBACK\n"
     ]
    }
   ],
   "source": [
    "# ORDER BY\n",
    "# Let's order our data, for example, ascending weights\n",
    "with engine.connect() as connection:\n",
    "    # a simple selection of data, * means all the columns of the table\n",
    "    raw_sql = \"SELECT samples.sample_id, samples.weight FROM samples \"\n",
    "    raw_sql += \"ORDER BY samples.weight ASC\"\n",
    "    result = connection.execute(sql.text(raw_sql))\n",
    "    for row in result:\n",
    "        print(f\"sample_id: {row.sample_id} - weight: {row.weight}\")"
   ]
  },
  {
   "cell_type": "code",
   "execution_count": 75,
   "id": "0e050551-2fb5-498b-b994-234cca45022f",
   "metadata": {},
   "outputs": [
    {
     "name": "stdout",
     "output_type": "stream",
     "text": [
      "2024-10-09 07:21:10,206 INFO sqlalchemy.engine.Engine BEGIN (implicit)\n",
      "2024-10-09 07:21:10,209 INFO sqlalchemy.engine.Engine SELECT COUNT(samples.sample_id), samples.researcher_id FROM samples GROUP BY samples.researcher_id\n",
      "2024-10-09 07:21:10,209 INFO sqlalchemy.engine.Engine [generated in 0.00372s] ()\n",
      "sample_id counts: 2 - researcher_id: janesmith\n",
      "sample_id counts: 3 - researcher_id: johnatansmith\n",
      "2024-10-09 07:21:10,214 INFO sqlalchemy.engine.Engine ROLLBACK\n"
     ]
    }
   ],
   "source": [
    "# Let's count our data\n",
    "# How many sample has the researcher inserted?\n",
    "# COUNT and GROUP BY\n",
    "# Let's count our data, grouping it by the resarcher\n",
    "with engine.connect() as connection:\n",
    "    # a simple selection of data, * means all the columns of the table\n",
    "    raw_sql = \"SELECT COUNT(samples.sample_id), samples.researcher_id FROM samples \"\n",
    "    raw_sql += \"GROUP BY samples.researcher_id\"\n",
    "    result = connection.execute(sql.text(raw_sql))\n",
    "    for row in result:\n",
    "        print(f\"sample_id counts: {row[0]} - researcher_id: {row.researcher_id}\")\n"
   ]
  },
  {
   "cell_type": "markdown",
   "id": "89d46c93-9fd2-403b-bf2f-0e9f48e4e687",
   "metadata": {},
   "source": [
    "### Let's ALTER our table schema.\n",
    "*and learn about the pitfalls on doing so!*"
   ]
  },
  {
   "cell_type": "code",
   "execution_count": 77,
   "id": "2fe89eae-201e-4f0c-b380-1f9666a69a94",
   "metadata": {},
   "outputs": [
    {
     "name": "stdout",
     "output_type": "stream",
     "text": [
      "2024-10-09 07:21:41,497 INFO sqlalchemy.engine.Engine BEGIN (implicit)\n",
      "2024-10-09 07:21:41,501 INFO sqlalchemy.engine.Engine ALTER TABLE samples RENAME COLUMN 'weight' to 'molecular_weight';\n",
      "2024-10-09 07:21:41,502 INFO sqlalchemy.engine.Engine [generated in 0.00512s] ()\n",
      "2024-10-09 07:21:41,603 INFO sqlalchemy.engine.Engine COMMIT\n"
     ]
    }
   ],
   "source": [
    "# This works fine\n",
    "with engine.connect() as connection:\n",
    "    raw_sql = \"ALTER TABLE samples \"\n",
    "    raw_sql += \"RENAME COLUMN 'weight' to 'molecular_weight';\"\n",
    "    result = connection.execute(sql.text(raw_sql))\n",
    "    connection.commit()"
   ]
  },
  {
   "cell_type": "code",
   "execution_count": 78,
   "id": "d9e51913-c992-4709-a272-60eb66129f95",
   "metadata": {},
   "outputs": [
    {
     "name": "stdout",
     "output_type": "stream",
     "text": [
      "2024-10-09 07:21:43,482 INFO sqlalchemy.engine.Engine BEGIN (implicit)\n",
      "2024-10-09 07:21:43,486 INFO sqlalchemy.engine.Engine ALTER TABLE samples ADD COLUMN 'magic_data';\n",
      "2024-10-09 07:21:43,488 INFO sqlalchemy.engine.Engine [generated in 0.00702s] ()\n",
      "2024-10-09 07:21:43,500 INFO sqlalchemy.engine.Engine COMMIT\n"
     ]
    }
   ],
   "source": [
    "# This have a little problem!\n",
    "with engine.connect() as connection:\n",
    "    raw_sql = \"ALTER TABLE samples \"\n",
    "    raw_sql += \"ADD COLUMN 'magic_data';\"\n",
    "    result = connection.execute(sql.text(raw_sql))\n",
    "    connection.commit()\n",
    "\n",
    "# QUIZ: What is it?"
   ]
  },
  {
   "cell_type": "code",
   "execution_count": 79,
   "id": "57a44b49-017d-40d3-b596-e141bdd42a81",
   "metadata": {},
   "outputs": [
    {
     "name": "stdout",
     "output_type": "stream",
     "text": [
      "2024-10-09 07:21:45,716 INFO sqlalchemy.engine.Engine BEGIN (implicit)\n",
      "2024-10-09 07:21:45,718 INFO sqlalchemy.engine.Engine ALTER TABLE samples ADD COLUMN 'magic_data_2' INTEGER DEFAULT 0;\n",
      "2024-10-09 07:21:45,719 INFO sqlalchemy.engine.Engine [generated in 0.00390s] ()\n",
      "2024-10-09 07:21:45,726 INFO sqlalchemy.engine.Engine COMMIT\n"
     ]
    }
   ],
   "source": [
    "with engine.connect() as connection:\n",
    "    raw_sql = \"ALTER TABLE samples \"\n",
    "    raw_sql += \"ADD COLUMN 'magic_data_2' INTEGER DEFAULT 0;\"\n",
    "    result = connection.execute(sql.text(raw_sql))\n",
    "    connection.commit()\n"
   ]
  },
  {
   "cell_type": "code",
   "execution_count": 80,
   "id": "ccc091db-4d27-4af6-8bf2-c0e89a17f5a7",
   "metadata": {},
   "outputs": [
    {
     "name": "stdout",
     "output_type": "stream",
     "text": [
      "2024-10-09 07:21:49,049 INFO sqlalchemy.engine.Engine BEGIN (implicit)\n",
      "2024-10-09 07:21:49,051 INFO sqlalchemy.engine.Engine SELECT * FROM samples\n",
      "2024-10-09 07:21:49,052 INFO sqlalchemy.engine.Engine [cached since 49.09s ago] ()\n",
      "sample_id: 0 - weight: 12.2 - researcher_id: janesmith - magic_data_2: 0\n",
      "sample_id: 1 - weight: 9.2 - researcher_id: johnatansmith - magic_data_2: 0\n",
      "sample_id: 2 - weight: 11.3 - researcher_id: johnatansmith - magic_data_2: 0\n",
      "sample_id: 3 - weight: 2.2 - researcher_id: johnatansmith - magic_data_2: 0\n",
      "sample_id: 4 - weight: 14.5 - researcher_id: janesmith - magic_data_2: 0\n",
      "2024-10-09 07:21:49,054 INFO sqlalchemy.engine.Engine ROLLBACK\n"
     ]
    }
   ],
   "source": [
    "# Let's check!\n",
    "with engine.connect() as connection:\n",
    "    # a simple selection of data, * means all the columns of the table\n",
    "    raw_sql = \"SELECT * FROM samples\"\n",
    "    result = connection.execute(sql.text(raw_sql))\n",
    "    for row in result:\n",
    "        print(f\"sample_id: {row.sample_id} - weight: {row.molecular_weight} - researcher_id: {row.researcher_id} - magic_data_2: {row.magic_data_2}\")\n",
    "        "
   ]
  },
  {
   "cell_type": "code",
   "execution_count": 81,
   "id": "6501fa24-316c-4cea-8430-046d10b6f00c",
   "metadata": {},
   "outputs": [
    {
     "name": "stdout",
     "output_type": "stream",
     "text": [
      "2024-10-09 07:21:55,289 INFO sqlalchemy.engine.Engine BEGIN (implicit)\n",
      "2024-10-09 07:21:55,291 INFO sqlalchemy.engine.Engine ALTER TABLE samples DROP COLUMN 'magic_data'\n",
      "2024-10-09 07:21:55,293 INFO sqlalchemy.engine.Engine [generated in 0.00352s] ()\n",
      "2024-10-09 07:21:55,316 INFO sqlalchemy.engine.Engine ALTER TABLE samples DROP COLUMN 'magic_data_2'\n",
      "2024-10-09 07:21:55,317 INFO sqlalchemy.engine.Engine [generated in 0.00086s] ()\n",
      "2024-10-09 07:21:55,322 INFO sqlalchemy.engine.Engine COMMIT\n"
     ]
    }
   ],
   "source": [
    "# Ok magical_data is fun but we do not need it, let's drop those columns\n",
    "with engine.connect() as connection:\n",
    "    # Two operations...\n",
    "    raw_sql = \"ALTER TABLE samples \"\n",
    "    raw_sql += \"DROP COLUMN 'magic_data'\"\n",
    "    result = connection.execute(sql.text(raw_sql))\n",
    "    raw_sql = \"ALTER TABLE samples \"\n",
    "    raw_sql += \"DROP COLUMN 'magic_data_2'\"\n",
    "    result = connection.execute(sql.text(raw_sql))\n",
    "    # In a single transaction!\n",
    "    connection.commit()"
   ]
  },
  {
   "cell_type": "code",
   "execution_count": 82,
   "id": "345e3177-caec-40bb-b4f5-6a2d68aa8f34",
   "metadata": {},
   "outputs": [
    {
     "name": "stdout",
     "output_type": "stream",
     "text": [
      "2024-10-09 07:22:01,501 INFO sqlalchemy.engine.Engine BEGIN (implicit)\n",
      "2024-10-09 07:22:01,507 INFO sqlalchemy.engine.Engine SELECT * FROM samples\n",
      "2024-10-09 07:22:01,511 INFO sqlalchemy.engine.Engine [cached since 61.55s ago] ()\n",
      "Could not locate column in row for column 'magic_data_2' .... as expected!\n",
      "2024-10-09 07:22:01,524 INFO sqlalchemy.engine.Engine ROLLBACK\n"
     ]
    }
   ],
   "source": [
    "# Let's check!\n",
    "with engine.connect() as connection:\n",
    "    # a simple selection of data, * means all the columns of the table\n",
    "    raw_sql = \"SELECT * FROM samples\"\n",
    "    result = connection.execute(sql.text(raw_sql))\n",
    "    try:\n",
    "        for row in result:\n",
    "            print(f\"sample_id: {row.sample_id} - weight: {row.molecular_weight} - researcher_id: {row.researcher_id} - magic_data_2: {row.magic_data_2}\")\n",
    "    except AttributeError as e:\n",
    "        print(f\"{e} .... as expected!\")"
   ]
  },
  {
   "cell_type": "markdown",
   "id": "16aa6134-17ca-4b04-96bf-038ad84065ac",
   "metadata": {},
   "source": [
    "*Good work, let's return to the slides!*"
   ]
  },
  {
   "cell_type": "markdown",
   "id": "fd41f325-5ffd-4c06-a5ca-1e6e42cd3915",
   "metadata": {},
   "source": [
    "### STEP 4: \n",
    "*Let's recreate the example on the slide with the different joins*"
   ]
  },
  {
   "cell_type": "code",
   "execution_count": 83,
   "id": "2e627e32-f53e-4a36-a239-f4bcce99113e",
   "metadata": {},
   "outputs": [
    {
     "name": "stdout",
     "output_type": "stream",
     "text": [
      "2024-10-09 07:22:07,889 INFO sqlalchemy.engine.Engine BEGIN (implicit)\n",
      "2024-10-09 07:22:07,891 INFO sqlalchemy.engine.Engine CREATE TABLE IF NOT EXISTS table1 (A INTEGER, B INTEGER, C INTEGER)\n",
      "2024-10-09 07:22:07,893 INFO sqlalchemy.engine.Engine [generated in 0.00381s] ()\n",
      "2024-10-09 07:22:07,900 INFO sqlalchemy.engine.Engine DELETE FROM table1\n",
      "2024-10-09 07:22:07,900 INFO sqlalchemy.engine.Engine [generated in 0.00073s] ()\n",
      "2024-10-09 07:22:07,903 INFO sqlalchemy.engine.Engine INSERT INTO table1 ('A') VALUES (1),(2)\n",
      "2024-10-09 07:22:07,903 INFO sqlalchemy.engine.Engine [generated in 0.00099s] ()\n",
      "2024-10-09 07:22:07,904 INFO sqlalchemy.engine.Engine CREATE TABLE IF NOT EXISTS table2 (D INTEGER, E INTEGER, A INTEGER)\n",
      "2024-10-09 07:22:07,905 INFO sqlalchemy.engine.Engine [generated in 0.00074s] ()\n",
      "2024-10-09 07:22:07,917 INFO sqlalchemy.engine.Engine DELETE FROM table2\n",
      "2024-10-09 07:22:07,921 INFO sqlalchemy.engine.Engine [generated in 0.00426s] ()\n",
      "2024-10-09 07:22:07,931 INFO sqlalchemy.engine.Engine INSERT INTO table2 ('A') VALUES (2),(3)\n",
      "2024-10-09 07:22:07,976 INFO sqlalchemy.engine.Engine [generated in 0.04472s] ()\n",
      "2024-10-09 07:22:07,996 INFO sqlalchemy.engine.Engine COMMIT\n"
     ]
    }
   ],
   "source": [
    "# Let's create and populate the table1 and table2 of the example, with columns A,B,C and D,E,A\n",
    "with engine.connect() as connection:\n",
    "    connection.execute(sql.text(f\"CREATE TABLE IF NOT EXISTS table1 (A INTEGER, B INTEGER, C INTEGER)\"))\n",
    "    # DELETE deletes only the data, not the entire table, with \"WHERE\" could be used to delete only some rows\n",
    "    connection.execute(sql.text(f\"DELETE FROM table1\"))\n",
    "    connection.execute(sql.text(f\"INSERT INTO table1 ('A') VALUES (1),(2)\"))\n",
    "    connection.execute(sql.text(f\"CREATE TABLE IF NOT EXISTS table2 (D INTEGER, E INTEGER, A INTEGER)\"))\n",
    "    connection.execute(sql.text(f\"DELETE FROM table2\"))\n",
    "    connection.execute(sql.text(f\"INSERT INTO table2 ('A') VALUES (2),(3)\"))\n",
    "\n",
    "    connection.commit()"
   ]
  },
  {
   "cell_type": "code",
   "execution_count": 85,
   "id": "29cccb47-f552-4764-9ded-c80d513c37fd",
   "metadata": {},
   "outputs": [
    {
     "name": "stdout",
     "output_type": "stream",
     "text": [
      "table1 schema:\n",
      "Table1 and Table2:\n",
      "(0, 'A', 'INTEGER', 0, None, 0)\n",
      "(1, 'B', 'INTEGER', 0, None, 0)\n",
      "(2, 'C', 'INTEGER', 0, None, 0)\n",
      "table1 instance:\n",
      "A,B,C\n",
      "(1, None, None)\n",
      "(2, None, None)\n",
      "\n",
      "table2 schema:\n",
      "(0, 'A', 'INTEGER', 0, None, 0)\n",
      "(1, 'B', 'INTEGER', 0, None, 0)\n",
      "(2, 'C', 'INTEGER', 0, None, 0)\n",
      "table1 instance:\n",
      "D,E,A\n",
      "(None, None, 2)\n",
      "(None, None, 3)\n",
      "\n",
      "NATURAL JOIN instance:\n",
      "A,B,C,D,E\n",
      "(2, None, None, None, None)\n",
      "\n",
      "INNER JOIN instance:\n",
      "table1.A,B,C,D,E,table2.A\n",
      "(2, None, None, None, None, 2)\n",
      "\n",
      "LEFT JOIN instance:\n",
      "table1.A,B,C,D,E,table2.A\n",
      "(1, None, None, None, None, None)\n",
      "(2, None, None, None, None, 2)\n",
      "\n",
      " RIGHT JOIN instance:\n",
      "table1.A,B,C,D,E,table2.A\n",
      "(2, None, None, None, None, 2)\n",
      "(None, None, None, None, None, 3)\n",
      "\n",
      " FULL OUTER JOIN instance:\n",
      "table1.A,B,C,D,E,table2.A\n",
      "(1, None, None, None, None, None)\n",
      "(2, None, None, None, None, 2)\n",
      "(None, None, None, None, None, 3)\n"
     ]
    }
   ],
   "source": [
    "engine.echo = False;\n",
    "with engine.connect() as connection:\n",
    "    # Let's set up our tables\n",
    "    # table1:\n",
    "    print(\"table1 schema:\")\n",
    "    # PRAGMA tells some information about the database itself, in this case, the schema of our tables\n",
    "    print(\"Table1 and Table2:\")\n",
    "    for row in connection.execute(sql.text(f\"PRAGMA table_info(table1)\")):\n",
    "        print(row)\n",
    "    print(\"table1 instance:\")\n",
    "    print(\"A,B,C\")\n",
    "    for row in connection.execute(sql.text(f\"SELECT * FROM table1\")):\n",
    "        print(row)\n",
    "    # table2:\n",
    "    print(\"\\ntable2 schema:\")\n",
    "    for row in connection.execute(sql.text(f\"PRAGMA table_info(table1)\")):\n",
    "        print(row)\n",
    "    print(\"table1 instance:\")\n",
    "    print(\"D,E,A\")\n",
    "    for row in connection.execute(sql.text(f\"SELECT * FROM table2\")):\n",
    "        print(row)\n",
    "\n",
    "    # Natural JOIN\n",
    "    print(\"\\nNATURAL JOIN instance:\")\n",
    "    print(\"A,B,C,D,E\")\n",
    "    for row in connection.execute(sql.text(f\"SELECT * FROM table1 NATURAL JOIN table2\")):\n",
    "        print(row)\n",
    "\n",
    "    # Inner JOIN\n",
    "    print(\"\\nINNER JOIN instance:\")\n",
    "    print(\"table1.A,B,C,D,E,table2.A\")\n",
    "    for row in connection.execute(sql.text(f\"SELECT * FROM table1 INNER JOIN table2 ON table1.A = table2.A\")):\n",
    "        print(row)\n",
    "\n",
    "    # Left JOIN\n",
    "    print(\"\\nLEFT JOIN instance:\")\n",
    "    print(\"table1.A,B,C,D,E,table2.A\")\n",
    "    for row in connection.execute(sql.text(f\"SELECT * FROM table1 LEFT JOIN table2 ON table1.A = table2.A\")):\n",
    "        print(row)\n",
    "\n",
    "    # Right JOIN\n",
    "    print(\"\\n RIGHT JOIN instance:\")\n",
    "    print(\"table1.A,B,C,D,E,table2.A\")\n",
    "    for row in connection.execute(sql.text(f\"SELECT * FROM table1 RIGHT JOIN table2 ON table1.A = table2.A\")):\n",
    "        print(row)\n",
    "\n",
    "    # Full Outer JOIN\n",
    "    print(\"\\n FULL OUTER JOIN instance:\")\n",
    "    print(\"table1.A,B,C,D,E,table2.A\")\n",
    "    for row in connection.execute(sql.text(f\"SELECT * FROM table1 FULL OUTER JOIN table2 ON table1.A = table2.A\")):\n",
    "        print(row)\n",
    "\n"
   ]
  },
  {
   "cell_type": "markdown",
   "id": "e7260bb9-7c6a-47f6-9f07-e56d397f6b26",
   "metadata": {},
   "source": [
    "## FINAL EXERCISES\n",
    "* DROP table1 and table2\n",
    "* CREATE a Sample Table with parameters that you value in your experiments\n",
    "* CREATE an Instrumentation Table with useful parameters regarding your experiment\n",
    "* ALTER your Sample Table adding a column regarding the primary key of your Instrumentation Table (add only one per row now)\n",
    "* INSERT Data in your tables (at least three rows each!)\n",
    "* UPDATE one row of one table\n",
    "* SELECT one useful parameter for each table and SELECT + JOIN of those two parameters\n",
    "* COUNT samples GROUPing them BY their instrument\n",
    "* Play\n",
    "  "
   ]
  },
  {
   "cell_type": "code",
   "execution_count": null,
   "id": "74373b3f-107f-4c12-ae67-c2c396e76d87",
   "metadata": {},
   "outputs": [],
   "source": []
  }
 ],
 "metadata": {
  "kernelspec": {
   "display_name": "Python 3 (ipykernel)",
   "language": "python",
   "name": "python3"
  },
  "language_info": {
   "codemirror_mode": {
    "name": "ipython",
    "version": 3
   },
   "file_extension": ".py",
   "mimetype": "text/x-python",
   "name": "python",
   "nbconvert_exporter": "python",
   "pygments_lexer": "ipython3",
   "version": "3.11.6"
  }
 },
 "nbformat": 4,
 "nbformat_minor": 5
}
