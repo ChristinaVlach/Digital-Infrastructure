{
 "cells": [
  {
   "cell_type": "markdown",
   "id": "3eb43c4b-4156-4624-b933-712a9d1b009c",
   "metadata": {},
   "source": [
    "# Object Relational Mapping with sqlalchemy and sqlite databases\n",
    "*Author: Marco Prenassi*   \n",
    "*License: Creative Commons [insert type, cc-by?]*   "
   ]
  },
  {
   "cell_type": "code",
   "execution_count": 4,
   "id": "6ca7318b-60a5-4fee-b4d1-eb07dd73de88",
   "metadata": {},
   "outputs": [
    {
     "name": "stdout",
     "output_type": "stream",
     "text": [
      "Requirement already satisfied: sqlalchemy in /opt/conda/lib/python3.11/site-packages (2.0.22)\n",
      "Requirement already satisfied: typing-extensions>=4.2.0 in /opt/conda/lib/python3.11/site-packages (from sqlalchemy) (4.8.0)\n",
      "Requirement already satisfied: greenlet!=0.4.17 in /opt/conda/lib/python3.11/site-packages (from sqlalchemy) (3.0.0)\n"
     ]
    }
   ],
   "source": [
    "!pip install sqlalchemy"
   ]
  },
  {
   "cell_type": "markdown",
   "id": "71fb1282-ac42-4254-add7-6d6a5f0327b7",
   "metadata": {},
   "source": [
    "## ORM WITH SQLALCHEMY  \n",
    "*Let's understand what is ORM*\n",
    "*We are going to use the quickStart example on https://docs.sqlalchemy.org/en/20/*\n",
    "*We use the declarative mapping, as a standard declaration*"
   ]
  },
  {
   "cell_type": "code",
   "execution_count": 4,
   "id": "9df442d5-7213-46e0-abb6-d847937a2a62",
   "metadata": {},
   "outputs": [
    {
     "name": "stdout",
     "output_type": "stream",
     "text": [
      "<sqlalchemy.orm.decl_api.registry object at 0xffff866b04d0>\n"
     ]
    }
   ],
   "source": [
    "# This is a type of data, used also in sql, that's a VARCHAR\n",
    "from sqlalchemy import String\n",
    "# These are imporant basic modules to declare tables in SQLAlchemy ORM\n",
    "from sqlalchemy.orm import DeclarativeBase\n",
    "from sqlalchemy.orm import Mapped\n",
    "from sqlalchemy.orm import mapped_column\n",
    "\n",
    "# We inherit DeclarativeBase to create a Base, why? Because we need to create a specific registry linked to the database.\n",
    "# class normally do not hold attributes, but in this specific case they do, as it is used as a \"legend\" to navigate the SQL schema\n",
    "class Base(DeclarativeBase):\n",
    "    pass\n",
    "\n",
    "# Let's see if there's something (you only see an \"object\" like: <sqlalchemy.orm.decl_api.registry object at ....>\n",
    "print(Base.registry)\n",
    "\n",
    "for row in Base.registry.mappers:\n",
    "    print(row)\n",
    "\n",
    "class Sample(Base):\n",
    "    __tablename__ = \"sample\"\n",
    "    # This \"id: Mapped[int]\" is a type hint, helps python to identify the right variable type, as mapped_column is type agnostic\n",
    "    name: Mapped[str] = mapped_column(String[50], primary_key=True)\n",
    "    \n",
    "    # Type hint here is real \n",
    "    molecular_weight: Mapped[float]"
   ]
  },
  {
   "cell_type": "code",
   "execution_count": 31,
   "id": "077be716-565c-430d-98f6-f3d8d1ee232d",
   "metadata": {},
   "outputs": [],
   "source": [
    "# Just to be sure, let's delete the database and..\n",
    "!rm ./databases/orm_database.db"
   ]
  },
  {
   "cell_type": "code",
   "execution_count": 32,
   "id": "1955cdda-5d27-4f6a-87e7-4c2bd5ec689c",
   "metadata": {},
   "outputs": [
    {
     "name": "stdout",
     "output_type": "stream",
     "text": [
      "2024-10-13 18:53:12,289 INFO sqlalchemy.engine.Engine BEGIN (implicit)\n",
      "2024-10-13 18:53:12,292 INFO sqlalchemy.engine.Engine PRAGMA main.table_info(\"sample\")\n",
      "2024-10-13 18:53:12,293 INFO sqlalchemy.engine.Engine [raw sql] ()\n",
      "2024-10-13 18:53:12,300 INFO sqlalchemy.engine.Engine PRAGMA temp.table_info(\"sample\")\n",
      "2024-10-13 18:53:12,302 INFO sqlalchemy.engine.Engine [raw sql] ()\n",
      "2024-10-13 18:53:12,315 INFO sqlalchemy.engine.Engine PRAGMA main.table_info(\"reactions\")\n",
      "2024-10-13 18:53:12,319 INFO sqlalchemy.engine.Engine [raw sql] ()\n",
      "2024-10-13 18:53:12,321 INFO sqlalchemy.engine.Engine PRAGMA temp.table_info(\"reactions\")\n",
      "2024-10-13 18:53:12,321 INFO sqlalchemy.engine.Engine [raw sql] ()\n",
      "2024-10-13 18:53:12,325 INFO sqlalchemy.engine.Engine \n",
      "CREATE TABLE sample (\n",
      "\tname VARCHAR NOT NULL, \n",
      "\tmolecular_weight FLOAT NOT NULL, \n",
      "\tPRIMARY KEY (name)\n",
      ")\n",
      "\n",
      "\n",
      "2024-10-13 18:53:12,326 INFO sqlalchemy.engine.Engine [no key 0.00095s] ()\n",
      "2024-10-13 18:53:12,331 INFO sqlalchemy.engine.Engine \n",
      "CREATE TABLE reactions (\n",
      "\treaction_product VARCHAR NOT NULL, \n",
      "\tcomponent_1 VARCHAR NOT NULL, \n",
      "\tcomponent_2 VARCHAR NOT NULL, \n",
      "\tenergy FLOAT, \n",
      "\tPRIMARY KEY (reaction_product)\n",
      ")\n",
      "\n",
      "\n",
      "2024-10-13 18:53:12,332 INFO sqlalchemy.engine.Engine [no key 0.00144s] ()\n",
      "2024-10-13 18:53:12,336 INFO sqlalchemy.engine.Engine COMMIT\n"
     ]
    }
   ],
   "source": [
    "# Create a new sqlite database\n",
    "from sqlalchemy import create_engine\n",
    "engine = create_engine(\"sqlite:///databases/orm_database.db\", echo=True)\n",
    "# Create all the table, using the definition in Base (that's why we used it)\n",
    "Base.metadata.create_all(engine)"
   ]
  },
  {
   "cell_type": "code",
   "execution_count": 7,
   "id": "3f0a805e-d0c7-46bd-a929-c53e20215c9e",
   "metadata": {},
   "outputs": [
    {
     "name": "stdout",
     "output_type": "stream",
     "text": [
      "Mapper[Sample(sample)]\n"
     ]
    }
   ],
   "source": [
    "# Let's check the mappers\n",
    "for row in Base.registry.mappers:\n",
    "    print(row)"
   ]
  },
  {
   "cell_type": "code",
   "execution_count": 8,
   "id": "72255fb9-c746-4941-9fcc-f4bc4ca91108",
   "metadata": {},
   "outputs": [
    {
     "name": "stdout",
     "output_type": "stream",
     "text": [
      "sample.name\n",
      "sample.molecular_weight\n"
     ]
    }
   ],
   "source": [
    "# And user inspect to verify other parameters\n",
    "from sqlalchemy import inspect\n",
    "for row in inspect(Sample).columns:\n",
    "    print(row)"
   ]
  },
  {
   "cell_type": "code",
   "execution_count": 9,
   "id": "8be0fdb4-56f8-4b14-b83c-c8b02a01218e",
   "metadata": {},
   "outputs": [
    {
     "name": "stdout",
     "output_type": "stream",
     "text": [
      "2024-10-13 13:29:58,006 INFO sqlalchemy.engine.Engine BEGIN (implicit)\n",
      "2024-10-13 13:29:58,013 INFO sqlalchemy.engine.Engine INSERT INTO sample (name, molecular_weight) VALUES (?, ?)\n",
      "2024-10-13 13:29:58,013 INFO sqlalchemy.engine.Engine [generated in 0.00076s] [('Carbon Dioxide', 44.05), ('Benzene', 78.11)]\n",
      "2024-10-13 13:29:58,017 INFO sqlalchemy.engine.Engine COMMIT\n"
     ]
    }
   ],
   "source": [
    "# Let's populate our table with data!\n",
    "from sqlalchemy.orm import Session\n",
    "from sqlalchemy.exc import IntegrityError\n",
    "\n",
    "# Create a session\n",
    "with Session(engine) as session:\n",
    "    try:\n",
    "        # Let's insert the first row of data\n",
    "        CO2 = Sample(\n",
    "            name=\"Carbon Dioxide\",\n",
    "            molecular_weight=44.05,\n",
    "        )\n",
    "        # Let's insert the second raw of data\n",
    "        C6H6 = Sample(name = 'Benzene', molecular_weight = 78.11)\n",
    "        session.add_all([CO2, C6H6])\n",
    "        session.commit()\n",
    "    except IntegrityError as e:\n",
    "        print(f\"Error, created new data must have a unique primary key! \\n{e}\")"
   ]
  },
  {
   "cell_type": "code",
   "execution_count": null,
   "id": "5289e9f9-f4ea-44a9-b41e-cc78bb33a255",
   "metadata": {},
   "outputs": [],
   "source": []
  },
  {
   "cell_type": "code",
   "execution_count": 10,
   "id": "2f968e64-cb0b-47cf-a2ec-cbc4fb81dcd4",
   "metadata": {},
   "outputs": [
    {
     "name": "stdout",
     "output_type": "stream",
     "text": [
      "2024-10-13 13:30:00,756 INFO sqlalchemy.engine.Engine BEGIN (implicit)\n",
      "2024-10-13 13:30:00,783 INFO sqlalchemy.engine.Engine SELECT sample.name, sample.molecular_weight \n",
      "FROM sample\n",
      "2024-10-13 13:30:00,784 INFO sqlalchemy.engine.Engine [generated in 0.00166s] ()\n",
      "Carbon Dioxide - 44.05\n",
      "Benzene - 78.11\n",
      "2024-10-13 13:30:00,787 INFO sqlalchemy.engine.Engine ROLLBACK\n"
     ]
    }
   ],
   "source": [
    "# Let's use a SELECT to retrieve data\n",
    "\n",
    "from sqlalchemy import select\n",
    "with Session(engine) as session:\n",
    "    stmt = select(Sample)\n",
    "\n",
    "    for sample in session.scalars(stmt):\n",
    "        print(f\"{sample.name} - {sample.molecular_weight}\")"
   ]
  },
  {
   "cell_type": "code",
   "execution_count": 11,
   "id": "541932b5-a3d8-4cf7-977f-10979160dab7",
   "metadata": {},
   "outputs": [
    {
     "name": "stdout",
     "output_type": "stream",
     "text": [
      "2024-10-13 13:30:01,327 INFO sqlalchemy.engine.Engine BEGIN (implicit)\n",
      "2024-10-13 13:30:01,332 INFO sqlalchemy.engine.Engine SELECT sample.name, sample.molecular_weight \n",
      "FROM sample \n",
      "WHERE sample.molecular_weight > ?\n",
      "2024-10-13 13:30:01,333 INFO sqlalchemy.engine.Engine [generated in 0.00133s] (50.0,)\n",
      "Benzene - 78.11\n",
      "2024-10-13 13:30:01,335 INFO sqlalchemy.engine.Engine ROLLBACK\n"
     ]
    }
   ],
   "source": [
    "# Let's use a SELECT WHERE to define better our row boundaries\n",
    "\n",
    "from sqlalchemy import select\n",
    "with Session(engine) as session:\n",
    "    stmt = select(Sample).where(Sample.molecular_weight > 50.0 )\n",
    "    \n",
    "    for sample in session.scalars(stmt):\n",
    "        print(f\"{sample.name} - {sample.molecular_weight}\")"
   ]
  },
  {
   "cell_type": "code",
   "execution_count": 12,
   "id": "90614a4c-948c-4fe2-84ed-cb7cbf2a2fcb",
   "metadata": {},
   "outputs": [
    {
     "name": "stdout",
     "output_type": "stream",
     "text": [
      "2024-10-13 13:30:03,431 INFO sqlalchemy.engine.Engine BEGIN (implicit)\n",
      "2024-10-13 13:30:03,438 INFO sqlalchemy.engine.Engine SELECT sample.name, sample.molecular_weight \n",
      "FROM sample \n",
      "WHERE sample.name = ?\n",
      "2024-10-13 13:30:03,440 INFO sqlalchemy.engine.Engine [generated in 0.00199s] ('Carbon Dioxide',)\n",
      "2024-10-13 13:30:03,465 INFO sqlalchemy.engine.Engine UPDATE sample SET molecular_weight=? WHERE sample.name = ?\n",
      "2024-10-13 13:30:03,468 INFO sqlalchemy.engine.Engine [generated in 0.00348s] (44.01, 'Carbon Dioxide')\n",
      "2024-10-13 13:30:03,470 INFO sqlalchemy.engine.Engine COMMIT\n",
      "2024-10-13 13:30:03,474 INFO sqlalchemy.engine.Engine BEGIN (implicit)\n",
      "2024-10-13 13:30:03,477 INFO sqlalchemy.engine.Engine SELECT sample.name, sample.molecular_weight \n",
      "FROM sample\n",
      "2024-10-13 13:30:03,477 INFO sqlalchemy.engine.Engine [cached since 2.695s ago] ()\n",
      "Carbon Dioxide - 44.01\n",
      "Benzene - 78.11\n",
      "2024-10-13 13:30:03,480 INFO sqlalchemy.engine.Engine ROLLBACK\n"
     ]
    }
   ],
   "source": [
    "# Let's change a value!\n",
    "with Session(engine) as session:\n",
    "    stmt = select(Sample).where(Sample.name == \"Carbon Dioxide\")\n",
    "    one_row_object = session.scalars(stmt).one()\n",
    "    one_row_object.molecular_weight = 44.01    \n",
    "    session.commit()\n",
    "    stmt = select(Sample)\n",
    "    \n",
    "    for sample in session.scalars(stmt):\n",
    "        print(f\"{sample.name} - {sample.molecular_weight}\")"
   ]
  },
  {
   "cell_type": "markdown",
   "id": "2686adc6-ee30-4c7d-ab14-b3dbb8045f85",
   "metadata": {},
   "source": [
    "#### SELECT with JOIN"
   ]
  },
  {
   "cell_type": "code",
   "execution_count": 13,
   "id": "411ca342-75c9-42ad-8256-a99c9adf5e9c",
   "metadata": {},
   "outputs": [
    {
     "name": "stdout",
     "output_type": "stream",
     "text": [
      "2024-10-13 13:30:06,276 INFO sqlalchemy.engine.Engine BEGIN (implicit)\n",
      "2024-10-13 13:30:06,287 INFO sqlalchemy.engine.Engine PRAGMA main.table_info(\"sample\")\n",
      "2024-10-13 13:30:06,291 INFO sqlalchemy.engine.Engine [raw sql] ()\n",
      "2024-10-13 13:30:06,294 INFO sqlalchemy.engine.Engine PRAGMA main.table_info(\"reactions\")\n",
      "2024-10-13 13:30:06,296 INFO sqlalchemy.engine.Engine [raw sql] ()\n",
      "2024-10-13 13:30:06,297 INFO sqlalchemy.engine.Engine PRAGMA temp.table_info(\"reactions\")\n",
      "2024-10-13 13:30:06,298 INFO sqlalchemy.engine.Engine [raw sql] ()\n",
      "2024-10-13 13:30:06,301 INFO sqlalchemy.engine.Engine \n",
      "CREATE TABLE reactions (\n",
      "\treaction_product VARCHAR NOT NULL, \n",
      "\tcomponent_1 VARCHAR NOT NULL, \n",
      "\tcomponent_2 VARCHAR NOT NULL, \n",
      "\tenergy FLOAT, \n",
      "\tPRIMARY KEY (reaction_product)\n",
      ")\n",
      "\n",
      "\n",
      "2024-10-13 13:30:06,301 INFO sqlalchemy.engine.Engine [no key 0.00069s] ()\n",
      "2024-10-13 13:30:06,346 INFO sqlalchemy.engine.Engine COMMIT\n"
     ]
    }
   ],
   "source": [
    "# Let's create another table\n",
    "from sqlalchemy.exc import InvalidRequestError\n",
    "# Just to be sure let's drop the table\n",
    "try:\n",
    "    Reactions.__table__.drop(engine)\n",
    "except:\n",
    "    pass # THIS IS A CAPITAL SIN. DO NOT DO THIS.\n",
    "\n",
    "class Reactions(Base):\n",
    "    __tablename__ = 'reactions'\n",
    "    reaction_product : Mapped[str] = mapped_column(String[80], primary_key=True)\n",
    "    component_1 : Mapped[str] = mapped_column(String[80])\n",
    "    component_2 : Mapped[str] = mapped_column(String[80])\n",
    "    energy : Mapped[float] = mapped_column(nullable=True)\n",
    "    # this is useful if you are modifing the table dynamically (or you need to show it multiple times to the students!)\n",
    "    __table_args__ = {'extend_existing':True}\n",
    "\n",
    "    # The parameters are starting to get out of hands, and I am lazy, so we define a string rappresentation of our data\n",
    "    # To not compose a print statement every time (is comparable to a ToString() method on other languages\n",
    "    def __repr__(self):\n",
    "        return (f\"Reactions(reaction_product={self.reaction_product!r},component_1={self.component_1!r},component_2={self.component_2!r}),energy={self.energy!r})\")\n",
    "\n",
    "Base.metadata.create_all(engine)"
   ]
  },
  {
   "cell_type": "code",
   "execution_count": 14,
   "id": "4ad33670-4283-4c25-89a0-f5107f2a6131",
   "metadata": {},
   "outputs": [
    {
     "name": "stdout",
     "output_type": "stream",
     "text": [
      "2024-10-13 13:30:09,280 INFO sqlalchemy.engine.Engine BEGIN (implicit)\n",
      "2024-10-13 13:30:09,302 INFO sqlalchemy.engine.Engine INSERT INTO reactions (reaction_product, component_1, component_2, energy) VALUES (?, ?, ?, ?)\n",
      "2024-10-13 13:30:09,304 INFO sqlalchemy.engine.Engine [generated in 0.00232s] [('Carbonic Acid', 'Carbon Dioxide', 'Water', None), ('Ethanol', 'Ethilene', 'Water', 1000.0)]\n",
      "2024-10-13 13:30:09,312 INFO sqlalchemy.engine.Engine COMMIT\n"
     ]
    }
   ],
   "source": [
    "from sqlalchemy.exc import IntegrityError\n",
    "with Session(engine) as session:\n",
    "    try:\n",
    "        Friz = Reactions(reaction_product = 'Carbonic Acid', component_1 = 'Carbon Dioxide', component_2 = 'Water', energy=None)\n",
    "        Etha = Reactions(reaction_product = 'Ethanol', component_1 = 'Ethilene', component_2 ='Water', energy = 1000)\n",
    "        session.add_all([Friz, Etha])\n",
    "        session.commit()\n",
    "    except IntegrityError as e:\n",
    "        print(e)\n",
    "    "
   ]
  },
  {
   "cell_type": "code",
   "execution_count": 15,
   "id": "d624fa15-e652-4162-8471-08141a61b91a",
   "metadata": {},
   "outputs": [
    {
     "name": "stdout",
     "output_type": "stream",
     "text": [
      "REACTION TABLE:\n",
      "2024-10-13 13:30:11,114 INFO sqlalchemy.engine.Engine BEGIN (implicit)\n",
      "2024-10-13 13:30:11,120 INFO sqlalchemy.engine.Engine SELECT reactions.reaction_product, reactions.component_1, reactions.component_2, reactions.energy \n",
      "FROM reactions\n",
      "2024-10-13 13:30:11,123 INFO sqlalchemy.engine.Engine [generated in 0.00359s] ()\n",
      "Reactions(reaction_product='Carbonic Acid',component_1='Carbon Dioxide',component_2='Water'),energy=None)\n",
      "Reactions(reaction_product='Ethanol',component_1='Ethilene',component_2='Water'),energy=1000.0)\n",
      "SAMPLE TABLE:\n",
      "2024-10-13 13:30:11,129 INFO sqlalchemy.engine.Engine SELECT sample.name, sample.molecular_weight \n",
      "FROM sample\n",
      "2024-10-13 13:30:11,130 INFO sqlalchemy.engine.Engine [cached since 10.35s ago] ()\n",
      "Carbon Dioxide - 44.01\n",
      "Benzene - 78.11\n",
      "2024-10-13 13:30:11,131 INFO sqlalchemy.engine.Engine ROLLBACK\n"
     ]
    }
   ],
   "source": [
    "# Let's check our table\n",
    "\n",
    "from sqlalchemy import select\n",
    "with Session(engine) as session:\n",
    "    stmt = select(Reactions)\n",
    "    print(\"REACTION TABLE:\")\n",
    "    for reaction in session.scalars(stmt):\n",
    "        print(reaction)\n",
    "    stmt = select(Sample)\n",
    "    print(\"SAMPLE TABLE:\")\n",
    "    for sample in session.scalars(stmt):\n",
    "        print(f\"{sample.name} - {sample.molecular_weight}\")\n"
   ]
  },
  {
   "cell_type": "code",
   "execution_count": 16,
   "id": "7e963054-0c58-45d5-b3f2-94e988c20e04",
   "metadata": {},
   "outputs": [
    {
     "name": "stdout",
     "output_type": "stream",
     "text": [
      "2024-10-13 13:30:13,663 INFO sqlalchemy.engine.Engine BEGIN (implicit)\n",
      "2024-10-13 13:30:13,672 INFO sqlalchemy.engine.Engine SELECT sample.name AS sample_name, sample.molecular_weight AS sample_molecular_weight \n",
      "FROM sample \n",
      "WHERE sample.name = ?\n",
      "2024-10-13 13:30:13,674 INFO sqlalchemy.engine.Engine [generated in 0.00359s] ('Benzene',)\n",
      "Benzene 78.11\n",
      "2024-10-13 13:30:13,679 INFO sqlalchemy.engine.Engine DELETE FROM sample WHERE sample.name = ?\n",
      "2024-10-13 13:30:13,684 INFO sqlalchemy.engine.Engine [generated in 0.00485s] ('Benzene',)\n",
      "2024-10-13 13:30:13,691 INFO sqlalchemy.engine.Engine COMMIT\n"
     ]
    }
   ],
   "source": [
    "# And now we delete something\n",
    "with Session(engine) as session:\n",
    "    C6H6 = session.get(Sample, 'Benzene')\n",
    "    print(C6H6.name + \" \" + str(C6H6.molecular_weight))\n",
    "    session.delete(C6H6)\n",
    "    session.commit()"
   ]
  },
  {
   "cell_type": "code",
   "execution_count": 36,
   "id": "8da042b0-67b4-46f3-bbcc-e63be2cb0b40",
   "metadata": {},
   "outputs": [
    {
     "name": "stdout",
     "output_type": "stream",
     "text": [
      "{'name': 'Benzene', 'molecular_weight': '78.11'}\n",
      "2024-10-13 18:55:05,882 INFO sqlalchemy.engine.Engine BEGIN (implicit)\n",
      "2024-10-13 18:55:05,901 INFO sqlalchemy.engine.Engine INSERT INTO sample (name, molecular_weight) VALUES (?, ?)\n",
      "2024-10-13 18:55:05,902 INFO sqlalchemy.engine.Engine [generated in 0.00214s] ('Benzene', 78.11)\n",
      "2024-10-13 18:55:05,908 INFO sqlalchemy.engine.Engine COMMIT\n"
     ]
    }
   ],
   "source": [
    "# Let's recreate our Benzene with JSON\n",
    "import json\n",
    "raw_json_list = '{\"C6H6\" : {\"name\" : \"Benzene\", \"molecular_weight\" : \"78.11\"}}'\n",
    "print(json.loads(raw_json_list)['C6H6'])\n",
    "\n",
    "class Base(DeclarativeBase):\n",
    "    pass\n",
    "\n",
    "class Sample(Base):\n",
    "    __tablename__ = \"sample\"\n",
    "    # This \"id: Mapped[int]\" is a type hint, helps python to identify the right variable type, as mapped_column is type agnostic\n",
    "    name: Mapped[str] = mapped_column(String[50], primary_key=True)\n",
    "    \n",
    "    # Type hint here is real \n",
    "    molecular_weight: Mapped[float]\n",
    "\n",
    "    def from_json(self, in_json):\n",
    "        self.name = in_json['name']\n",
    "        self.molecular_weight = in_json['molecular_weight']\n",
    "\n",
    "with Session(engine) as session:\n",
    "    C6H6 = Sample()\n",
    "    C6H6.from_json(json.loads(raw_json_list)['C6H6'])\n",
    "    session.add(C6H6)\n",
    "    session.commit()"
   ]
  },
  {
   "cell_type": "code",
   "execution_count": 18,
   "id": "88b653de-0c46-454c-aceb-bf4d2e5a644b",
   "metadata": {},
   "outputs": [
    {
     "name": "stdout",
     "output_type": "stream",
     "text": [
      "2024-10-13 13:30:21,103 INFO sqlalchemy.engine.Engine BEGIN (implicit)\n",
      "2024-10-13 13:30:21,125 INFO sqlalchemy.engine.Engine SELECT reactions.reaction_product AS reactions_reaction_product, reactions.component_1 AS reactions_component_1, reactions.component_2 AS reactions_component_2, reactions.energy AS reactions_energy \n",
      "FROM reactions JOIN sample ON reactions.component_1 = sample.name\n",
      "2024-10-13 13:30:21,128 INFO sqlalchemy.engine.Engine [generated in 0.00451s] ()\n",
      "Reactions(reaction_product='Carbonic Acid',component_1='Carbon Dioxide',component_2='Water'),energy=None)\n",
      "2024-10-13 13:30:21,131 INFO sqlalchemy.engine.Engine ROLLBACK\n"
     ]
    },
    {
     "name": "stderr",
     "output_type": "stream",
     "text": [
      "/tmp/ipykernel_104/3730833897.py:5: SADeprecationWarning: Object <sqlalchemy.orm.query.Query object at 0xffff840f70d0> should not be used directly in a SQL statement context, such as passing to methods such as session.execute().  This usage will be disallowed in a future release.  Please use Core select() / update() / delete() etc. with Session.execute() and other statement execution methods.\n",
      "  for result in session.scalars(stmt):\n"
     ]
    }
   ],
   "source": [
    "# Let's use a Join in ORM in a \"naive\" way\n",
    "from sqlalchemy import select\n",
    "with Session(engine) as session:\n",
    "    stmt = session.query(Reactions).join(Sample,Reactions.component_1==Sample.name)\n",
    "    for result in session.scalars(stmt):\n",
    "        print(result)"
   ]
  },
  {
   "cell_type": "markdown",
   "id": "f39951fc-2938-41cf-a2e0-9eb4a8961841",
   "metadata": {},
   "source": [
    "*It works but we got scolded!*\n",
    "*Now let's return to the slide, and let's learn about relations and foreign keys!*"
   ]
  },
  {
   "cell_type": "markdown",
   "id": "a69d8a45-7a83-4300-9fcf-ab82b8924b12",
   "metadata": {},
   "source": [
    "### A LITTLE DIVE INTO THE MAPPING LIMITATIONS AND PITFALLS\n",
    "*These examples are made to explore how to **NOT** use ORM, remember that works better when the link between the SQL and OOP are solid*    \n",
    "<span style=\"color:red\">Beware: THIS ARE EXAMPLES TO TEACH HOW DO NOT USE ORM IN GENERAL, EXPECT PROBLEMS!!! </span>"
   ]
  },
  {
   "cell_type": "code",
   "execution_count": 178,
   "id": "4c14d23d-4498-4271-aee6-7a7530a89fcc",
   "metadata": {},
   "outputs": [
    {
     "name": "stderr",
     "output_type": "stream",
     "text": [
      "/tmp/ipykernel_48600/3127509369.py:2: SAWarning: This declarative base already contains a class with the same class name and module name as __main__.BetterSample, and will be replaced in the string-lookup table.\n",
      "  class BetterSample(Sample):\n"
     ]
    }
   ],
   "source": [
    "# Let's use inheritance and abstraction to add a method to our \"table\":\n",
    "class BetterSample(Sample):\n",
    "    def moles(self,weight):\n",
    "        return weight/self.molecular_weight\n",
    "# You see that you get a warning, the table, as declared, already exists, the class is usable and mapped but it is not ideal\n",
    "# Inheritance is still usable (a lot, we will see in the next session), but in this case is better to just add the method on\n",
    "# the original class"
   ]
  },
  {
   "cell_type": "code",
   "execution_count": 179,
   "id": "b01e01e2-22bd-428d-8227-5764eccbefe6",
   "metadata": {},
   "outputs": [
    {
     "name": "stdout",
     "output_type": "stream",
     "text": [
      "2024-10-08 09:00:04,959 INFO sqlalchemy.engine.Engine BEGIN (implicit)\n",
      "2024-10-08 09:00:04,980 INFO sqlalchemy.engine.Engine \n",
      "DROP TABLE sample\n",
      "2024-10-08 09:00:04,981 INFO sqlalchemy.engine.Engine [no key 0.00164s] ()\n",
      "2024-10-08 09:00:04,995 INFO sqlalchemy.engine.Engine COMMIT\n",
      "2024-10-08 09:00:04,999 INFO sqlalchemy.engine.Engine BEGIN (implicit)\n",
      "2024-10-08 09:00:05,000 INFO sqlalchemy.engine.Engine SELECT sample.name, sample.molecular_weight \n",
      "FROM sample \n",
      "WHERE sample.molecular_weight > ?\n",
      "2024-10-08 09:00:05,001 INFO sqlalchemy.engine.Engine [cached since 2943s ago] (50.0,)\n",
      "\n",
      " ERROR: \n",
      " (sqlite3.OperationalError) no such table: sample\n",
      "[SQL: SELECT sample.name, sample.molecular_weight \n",
      "FROM sample \n",
      "WHERE sample.molecular_weight > ?]\n",
      "[parameters: (50.0,)]\n",
      "(Background on this error at: https://sqlalche.me/e/20/e3q8)\n",
      "2024-10-08 09:00:05,013 INFO sqlalchemy.engine.Engine ROLLBACK\n"
     ]
    }
   ],
   "source": [
    "# So now we panic and we want to delete everything!\n",
    "# Quiz Time, what we delete with this:\n",
    "# BetterSample.__table__.drop(engine)?\n",
    "\n",
    "from sqlalchemy.exc import OperationalError\n",
    "BetterSample.__table__.drop(engine)\n",
    "with Session(engine) as session:\n",
    "    stmt = select(Sample).where(Sample.molecular_weight > 50.0 )\n",
    "    try:\n",
    "        session.scalars(stmt)\n",
    "    except OperationalError as e:\n",
    "        print(f\"\\n ERROR: \\n {e}\")"
   ]
  },
  {
   "cell_type": "code",
   "execution_count": 180,
   "id": "b306a1c8-fa57-4bfc-9484-9169e2594f9f",
   "metadata": {},
   "outputs": [
    {
     "name": "stdout",
     "output_type": "stream",
     "text": [
      "2024-10-08 09:00:21,545 INFO sqlalchemy.engine.Engine BEGIN (implicit)\n",
      "2024-10-08 09:00:21,550 INFO sqlalchemy.engine.Engine PRAGMA main.table_info(\"sample\")\n",
      "2024-10-08 09:00:21,554 INFO sqlalchemy.engine.Engine [raw sql] ()\n",
      "2024-10-08 09:00:21,563 INFO sqlalchemy.engine.Engine PRAGMA temp.table_info(\"sample\")\n",
      "2024-10-08 09:00:21,564 INFO sqlalchemy.engine.Engine [raw sql] ()\n",
      "2024-10-08 09:00:21,569 INFO sqlalchemy.engine.Engine \n",
      "CREATE TABLE sample (\n",
      "\tname VARCHAR NOT NULL, \n",
      "\tmolecular_weight FLOAT NOT NULL, \n",
      "\tPRIMARY KEY (name)\n",
      ")\n",
      "\n",
      "\n",
      "2024-10-08 09:00:21,570 INFO sqlalchemy.engine.Engine [no key 0.00029s] ()\n",
      "2024-10-08 09:00:21,578 INFO sqlalchemy.engine.Engine COMMIT\n",
      "2024-10-08 09:00:21,593 INFO sqlalchemy.engine.Engine BEGIN (implicit)\n",
      "2024-10-08 09:00:21,598 INFO sqlalchemy.engine.Engine INSERT INTO sample (name, molecular_weight) VALUES (?, ?)\n",
      "2024-10-08 09:00:21,599 INFO sqlalchemy.engine.Engine [generated in 0.00106s] [('Carbon Dioxide', 44.01), ('Benzene', 78.11)]\n",
      "2024-10-08 09:00:21,603 INFO sqlalchemy.engine.Engine COMMIT\n"
     ]
    }
   ],
   "source": [
    "# That's bad! Let's recreate our table schema!\n",
    "# recreate the schema\n",
    "Base.metadata.create_all(engine)\n",
    "# NOTE THAT WE DO NOT HAVE TO CREATE THE CLASSES! WE HAVE TO REDO THE DATABASE SCHEMA CREATION!!!\n",
    "# Remake our CO2\n",
    "with Session(engine) as session:\n",
    "    # Let's insert the first row of data\n",
    "    CO2 = Sample(\n",
    "        name=\"Carbon Dioxide\",\n",
    "        molecular_weight=44.01,\n",
    "    )\n",
    "    # Let's insert the second raw of data\n",
    "    C6H6 = Sample(name = 'Benzene', molecular_weight = 78.11)\n",
    "    session.add_all([CO2, C6H6])\n",
    "    session.commit()"
   ]
  },
  {
   "cell_type": "code",
   "execution_count": 149,
   "id": "5c16e63c-74f7-4c28-ab71-50cf2e4a16de",
   "metadata": {},
   "outputs": [
    {
     "name": "stdout",
     "output_type": "stream",
     "text": [
      "2024-10-08 08:14:12,625 INFO sqlalchemy.engine.Engine BEGIN (implicit)\n",
      "2024-10-08 08:14:12,650 INFO sqlalchemy.engine.Engine SELECT sample.name, sample.molecular_weight \n",
      "FROM sample \n",
      "WHERE sample.molecular_weight > ?\n",
      "2024-10-08 08:14:12,653 INFO sqlalchemy.engine.Engine [cached since 191.1s ago] (50.0,)\n",
      "Benzene - 78.11\n",
      "2024-10-08 08:14:12,657 INFO sqlalchemy.engine.Engine ROLLBACK\n"
     ]
    }
   ],
   "source": [
    "# Everything is back to normal!\n",
    "with Session(engine) as session:\n",
    "    stmt = select(Sample).where(Sample.molecular_weight > 50.0 )\n",
    "    for sample in session.scalars(stmt):\n",
    "        print(f\"{sample.name} - {sample.molecular_weight}\")\n"
   ]
  },
  {
   "cell_type": "code",
   "execution_count": 155,
   "id": "72cdcdbb-f5ed-4d2b-9bc7-9215b1e4af2d",
   "metadata": {},
   "outputs": [
    {
     "name": "stdout",
     "output_type": "stream",
     "text": [
      "Instance <Sample at 0xffff8752a2d0> is not bound to a Session; attribute refresh operation cannot proceed (Background on this error at: https://sqlalche.me/e/20/bhk3)\n"
     ]
    }
   ],
   "source": [
    "# Multiple Inheritance done bad: extend mapped classes just to add methods or not mapped components is possible but\n",
    "# not advisable, wrapping (passing the class also as an attribute) is not advisable either, especially if we work with multiple\n",
    "# sessions:\n",
    "class SampleWrapper:\n",
    "    sample = None\n",
    "    def __init__(self, sample):\n",
    "        if(type(sample).__name__ == 'Sample'):\n",
    "            self.sample = sample\n",
    "        else:\n",
    "            raise ValueError(\"Error: parameter is not a Sample\")\n",
    "\n",
    "    def moles(self, weight):\n",
    "        try:\n",
    "            return weight/self.sample.molecular_weight\n",
    "        except ValueError as e:\n",
    "            print(e)\n",
    "\n",
    "# QUIZ:\n",
    "# CO2 is working?\n",
    "from sqlalchemy.orm.exc import DetachedInstanceError\n",
    "with Session(engine) as session:\n",
    "    try:\n",
    "        CO2c = SampleWrapper(CO2)\n",
    "        print(CO2c.moles(10))\n",
    "    except DetachedInstanceError as e:\n",
    "        print(e)"
   ]
  },
  {
   "cell_type": "code",
   "execution_count": 186,
   "id": "1e58c16d-b63d-42aa-8135-cf71f19c0cf6",
   "metadata": {},
   "outputs": [
    {
     "name": "stdout",
     "output_type": "stream",
     "text": [
      "Error: parameter is not a Sample\n"
     ]
    }
   ],
   "source": [
    "# so... does this works?\n",
    "with Session(engine) as session:\n",
    "    try:\n",
    "        CO2c = SampleWrapper(select(Sample).where(Sample.name == 'Carbon Dioxide'))\n",
    "        print(CO2c.moles(10))\n",
    "    except ValueError as e:\n",
    "        print(e)"
   ]
  },
  {
   "cell_type": "code",
   "execution_count": null,
   "id": "7f067ec7-352c-474f-b6be-274cc731c501",
   "metadata": {},
   "outputs": [],
   "source": [
    "# No! a select is not a Sample"
   ]
  },
  {
   "cell_type": "code",
   "execution_count": 188,
   "id": "5a0385c8-2ee8-4e42-94df-467368e62346",
   "metadata": {},
   "outputs": [
    {
     "name": "stdout",
     "output_type": "stream",
     "text": [
      "2024-10-08 09:32:32,654 INFO sqlalchemy.engine.Engine BEGIN (implicit)\n",
      "2024-10-08 09:32:32,658 INFO sqlalchemy.engine.Engine SELECT sample.name, sample.molecular_weight \n",
      "FROM sample \n",
      "WHERE sample.name = ?\n",
      "2024-10-08 09:32:32,659 INFO sqlalchemy.engine.Engine [cached since 2070s ago] ('Carbon Dioxide',)\n",
      "0.22722108611679165\n",
      "2024-10-08 09:32:32,663 INFO sqlalchemy.engine.Engine ROLLBACK\n",
      "Class '__main__.SampleWrapper' is not mapped\n"
     ]
    }
   ],
   "source": [
    "# This still do not works because... \n",
    "with Session(engine) as session:\n",
    "    try:\n",
    "        stmt = select(Sample).where(Sample.name == 'Carbon Dioxide')\n",
    "        CO2c = SampleWrapper(session.scalars(stmt).first())\n",
    "        print(CO2c.moles(10))\n",
    "    except ValueError as e:\n",
    "        print(e)\n",
    "# This seems that is working, and, as a pure OOP it is, but...\n",
    "from sqlalchemy.orm.exc import UnmappedInstanceError\n",
    "# while it has the value, it is not mapped to our Database:\n",
    "try:\n",
    "    session.add(CO2c)\n",
    "    session.commit()\n",
    "except UnmappedInstanceError as e:\n",
    "    print(e)"
   ]
  }
 ],
 "metadata": {
  "kernelspec": {
   "display_name": "Python 3 (ipykernel)",
   "language": "python",
   "name": "python3"
  },
  "language_info": {
   "codemirror_mode": {
    "name": "ipython",
    "version": 3
   },
   "file_extension": ".py",
   "mimetype": "text/x-python",
   "name": "python",
   "nbconvert_exporter": "python",
   "pygments_lexer": "ipython3",
   "version": "3.11.6"
  }
 },
 "nbformat": 4,
 "nbformat_minor": 5
}
